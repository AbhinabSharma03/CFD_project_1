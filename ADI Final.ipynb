{
 "cells": [
  {
   "cell_type": "code",
   "execution_count": 1,
   "id": "606933f4",
   "metadata": {},
   "outputs": [],
   "source": [
    "import numpy as np\n",
    "import matplotlib.pyplot as plt\n",
    "import time as time"
   ]
  },
  {
   "cell_type": "code",
   "execution_count": 2,
   "id": "bd34879b",
   "metadata": {},
   "outputs": [],
   "source": [
    "Lx, Ly = 1.0, 1.0  # Length of the domain in x and y directions\n",
    "nx, ny = 41, 81    # Number of grid points in x and y\n",
    "dx = Lx / (nx - 1)\n",
    "dy = Ly / (ny - 1)\n",
    "max_iter = 10000\n",
    "tolerance = 1e-6   # for Convergence"
   ]
  },
  {
   "cell_type": "code",
   "execution_count": 3,
   "id": "5b9d44b7",
   "metadata": {},
   "outputs": [],
   "source": [
    "def source_term(x, y):\n",
    "    return 50000 * np.exp(-50 * ((1 - x) ** 2 + y ** 2)) * (100 * ((1 - x) ** 2 + y ** 2) - 2)"
   ]
  },
  {
   "cell_type": "code",
   "execution_count": 4,
   "id": "bc5827c2",
   "metadata": {},
   "outputs": [],
   "source": [
    "# Defining the given boundary conditions\n",
    "def phi_bc(x, y, bound):\n",
    "    if bound == 'L':\n",
    "        return 500 * np.exp(-50 * (1 + y ** 2))\n",
    "    elif bound == 'R':\n",
    "        return 100 * (1 - y) + 500 * np.exp(-50 * y ** 2)\n",
    "    elif bound == 'B':\n",
    "        return 100 * x + 500 * np.exp(-50 * (1 - x) ** 2)\n",
    "    elif bound == 'T':\n",
    "        return 500 * np.exp(-50 * ((1 - x) ** 2 + 1))"
   ]
  },
  {
   "cell_type": "code",
   "execution_count": 5,
   "id": "07c9b6fd",
   "metadata": {},
   "outputs": [],
   "source": [
    "## the Thomas Algorithm\n",
    "def tdma(a, b, c, d):\n",
    "    n = len(d)\n",
    "    c_new = np.zeros(n)\n",
    "    d_new = np.zeros(n)\n",
    "\n",
    "    c_new[0] = c[0] / b[0]\n",
    "    d_new[0] = d[0] / b[0]\n",
    "\n",
    "    for i in range(1, n):\n",
    "        factor = b[i] - a[i] * c_new[i - 1]\n",
    "        c_new[i] = c[i] / factor\n",
    "        d_new[i] = (d[i] - a[i] * d_new[i - 1]) / factor\n",
    "\n",
    "    x = np.zeros(n)\n",
    "    x[-1] = d_new[-1]\n",
    "    for i in range(n - 2, -1, -1):\n",
    "        x[i] = d_new[i] - c_new[i] * x[i + 1]\n",
    "\n",
    "    return x"
   ]
  },
  {
   "cell_type": "code",
   "execution_count": 6,
   "id": "59094f4e",
   "metadata": {},
   "outputs": [],
   "source": [
    "# Initialize the solution field\n",
    "phi = np.zeros((ny, nx))\n",
    "\n",
    "# Set boundary conditions\n",
    "x = np.linspace(0, Lx, nx)\n",
    "y = np.linspace(0, Ly, ny)"
   ]
  },
  {
   "cell_type": "code",
   "execution_count": 7,
   "id": "ceb0e09a",
   "metadata": {},
   "outputs": [
    {
     "name": "stdout",
     "output_type": "stream",
     "text": [
      "Converged after 1101 iterations\n"
     ]
    }
   ],
   "source": [
    "for j in range(ny):\n",
    "    phi[j, 0] = phi_bc(0, y[j], 'L')    \n",
    "    phi[j, -1] = phi_bc(1, y[j], 'R')   \n",
    "\n",
    "for i in range(nx):\n",
    "    phi[0, i] = phi_bc(x[i], 0, 'B')\n",
    "    phi[-1, i] = phi_bc(x[i], 1, 'T')    \n",
    "\n",
    "# ADI method: Alternate row-wise and column-wise sweeps\n",
    "for k in range(max_iter):\n",
    "    phi_old = np.copy(phi)\n",
    "\n",
    "    # First doing the row sweep\n",
    "    for j in range(1, ny-1):\n",
    "        a = np.ones(nx-2) / dx**2\n",
    "        b = -2 * (1/dx**2 + 1/dy**2) * np.ones(nx-2)\n",
    "        c = np.ones(nx-2) / dx**2\n",
    "        d = -source_term(x[1:-1], y[j])\n",
    "\n",
    "        d -= (phi[j+1, 1:-1] + phi[j-1, 1:-1]) / dy**2\n",
    "\n",
    "        phi[j, 1:-1] = tdma(a, b, c, d)  #using the thomas algorithm in order to solve for the current row\n",
    "    \n",
    "    \n",
    "    # Then doing the column sweep\n",
    "    for i in range(1, nx-1):\n",
    "        a = np.ones(ny-2) / dy**2\n",
    "        b = -2 * (1/dx**2 + 1/dy**2) * np.ones(ny-2)\n",
    "        c = np.ones(ny-2) / dy**2\n",
    "        d = -source_term(x[i], y[1:-1])\n",
    "\n",
    "        d -= (phi[1:-1, i+1] + phi[1:-1, i-1]) / dx**2\n",
    "\n",
    "        phi[1:-1, i] = tdma(a, b, c, d)  #tdma for solving for cuurent coluumn\n",
    "    \n",
    "    #calculating the error and checking for convergence\n",
    "    err = np.linalg.norm(phi - phi_old)\n",
    "    if err < tolerance:\n",
    "        print(f'Converged after {k+1} iterations')\n",
    "        break"
   ]
  },
  {
   "cell_type": "code",
   "execution_count": 8,
   "id": "14d2c98d",
   "metadata": {},
   "outputs": [
    {
     "data": {
      "image/png": "[encoded data removed]",
      "text/plain": [
       "<Figure size 432x288 with 2 Axes>"
      ]
     },
     "metadata": {
      "needs_background": "light"
     },
     "output_type": "display_data"
    }
   ],
   "source": [
    "# Plot the final solution\n",
    "X, Y = np.meshgrid(x, y)\n",
    "plt.contourf(X, Y, phi, 50, cmap='viridis')\n",
    "plt.colorbar(label='Phi')\n",
    "plt.title(f'Contour plot of phi for {nx} x {ny} grid using ADI')\n",
    "plt.xlabel('x')\n",
    "plt.ylabel('y')\n",
    "plt.show()"
   ]
  },
  {
   "cell_type": "code",
   "execution_count": null,
   "id": "09f3c7f1",
   "metadata": {},
   "outputs": [],
   "source": []
  }
 ],
 "metadata": {
  "kernelspec": {
   "display_name": "Python 3 (ipykernel)",
   "language": "python",
   "name": "python3"
  },
  "language_info": {
   "codemirror_mode": {
    "name": "ipython",
    "version": 3
   },
   "file_extension": ".py",
   "mimetype": "text/x-python",
   "name": "python",
   "nbconvert_exporter": "python",
   "pygments_lexer": "ipython3",
   "version": "3.9.12"
  }
 },
 "nbformat": 4,
 "nbformat_minor": 5
}
